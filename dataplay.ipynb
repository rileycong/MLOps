{
 "cells": [
  {
   "cell_type": "code",
   "execution_count": 36,
   "metadata": {},
   "outputs": [],
   "source": [
    "import pandas as pd\n",
    "import numpy as np\n",
    "import requests"
   ]
  },
  {
   "cell_type": "code",
   "execution_count": 37,
   "metadata": {},
   "outputs": [
    {
     "ename": "KeyboardInterrupt",
     "evalue": "",
     "output_type": "error",
     "traceback": [
      "\u001b[1;31m---------------------------------------------------------------------------\u001b[0m",
      "\u001b[1;31mKeyboardInterrupt\u001b[0m                         Traceback (most recent call last)",
      "\u001b[1;32md:\\Projects\\MLOps\\dataplay.ipynb Cell 2\u001b[0m line \u001b[0;36m1\n\u001b[0;32m      <a href='vscode-notebook-cell:/d%3A/Projects/MLOps/dataplay.ipynb#X13sZmlsZQ%3D%3D?line=5'>6</a>\u001b[0m base_url \u001b[39m=\u001b[39m \u001b[39m\"\u001b[39m\u001b[39mhttps://api.energidataservice.dk/dataset/ConsumptionDE35Hour\u001b[39m\u001b[39m\"\u001b[39m\n\u001b[0;32m      <a href='vscode-notebook-cell:/d%3A/Projects/MLOps/dataplay.ipynb#X13sZmlsZQ%3D%3D?line=7'>8</a>\u001b[0m params \u001b[39m=\u001b[39m {\n\u001b[0;32m      <a href='vscode-notebook-cell:/d%3A/Projects/MLOps/dataplay.ipynb#X13sZmlsZQ%3D%3D?line=8'>9</a>\u001b[0m     \u001b[39m\"\u001b[39m\u001b[39mstart\u001b[39m\u001b[39m\"\u001b[39m: \u001b[39m\"\u001b[39m\u001b[39m2020-06-30\u001b[39m\u001b[39m\"\u001b[39m,\n\u001b[0;32m     <a href='vscode-notebook-cell:/d%3A/Projects/MLOps/dataplay.ipynb#X13sZmlsZQ%3D%3D?line=9'>10</a>\u001b[0m     \u001b[39m\"\u001b[39m\u001b[39mend\u001b[39m\u001b[39m\"\u001b[39m: \u001b[39m\"\u001b[39m\u001b[39m2022-01-01\u001b[39m\u001b[39m\"\u001b[39m,\n\u001b[0;32m     <a href='vscode-notebook-cell:/d%3A/Projects/MLOps/dataplay.ipynb#X13sZmlsZQ%3D%3D?line=10'>11</a>\u001b[0m     \u001b[39m\"\u001b[39m\u001b[39mcolumns\u001b[39m\u001b[39m\"\u001b[39m: \u001b[39m\"\u001b[39m\u001b[39mHourDK,PriceArea,ConsumerType_DE35,TotalCon\u001b[39m\u001b[39m\"\u001b[39m,\n\u001b[0;32m     <a href='vscode-notebook-cell:/d%3A/Projects/MLOps/dataplay.ipynb#X13sZmlsZQ%3D%3D?line=11'>12</a>\u001b[0m     \u001b[39m\"\u001b[39m\u001b[39mlimit\u001b[39m\u001b[39m\"\u001b[39m: \u001b[39m\"\u001b[39m\u001b[39m0\u001b[39m\u001b[39m\"\u001b[39m\n\u001b[0;32m     <a href='vscode-notebook-cell:/d%3A/Projects/MLOps/dataplay.ipynb#X13sZmlsZQ%3D%3D?line=12'>13</a>\u001b[0m }\n\u001b[1;32m---> <a href='vscode-notebook-cell:/d%3A/Projects/MLOps/dataplay.ipynb#X13sZmlsZQ%3D%3D?line=14'>15</a>\u001b[0m response \u001b[39m=\u001b[39m requests\u001b[39m.\u001b[39;49mget(base_url, params\u001b[39m=\u001b[39;49mparams)\n\u001b[0;32m     <a href='vscode-notebook-cell:/d%3A/Projects/MLOps/dataplay.ipynb#X13sZmlsZQ%3D%3D?line=15'>16</a>\u001b[0m data \u001b[39m=\u001b[39m response\u001b[39m.\u001b[39mjson()[\u001b[39m'\u001b[39m\u001b[39mrecords\u001b[39m\u001b[39m'\u001b[39m]\n\u001b[0;32m     <a href='vscode-notebook-cell:/d%3A/Projects/MLOps/dataplay.ipynb#X13sZmlsZQ%3D%3D?line=17'>18</a>\u001b[0m df \u001b[39m=\u001b[39m pd\u001b[39m.\u001b[39mDataFrame(data)\n",
      "File \u001b[1;32md:\\Anaconda\\envs\\MLOps\\Lib\\site-packages\\requests\\api.py:73\u001b[0m, in \u001b[0;36mget\u001b[1;34m(url, params, **kwargs)\u001b[0m\n\u001b[0;32m     62\u001b[0m \u001b[39mdef\u001b[39;00m \u001b[39mget\u001b[39m(url, params\u001b[39m=\u001b[39m\u001b[39mNone\u001b[39;00m, \u001b[39m*\u001b[39m\u001b[39m*\u001b[39mkwargs):\n\u001b[0;32m     63\u001b[0m \u001b[39m    \u001b[39m\u001b[39mr\u001b[39m\u001b[39m\"\"\"Sends a GET request.\u001b[39;00m\n\u001b[0;32m     64\u001b[0m \n\u001b[0;32m     65\u001b[0m \u001b[39m    :param url: URL for the new :class:`Request` object.\u001b[39;00m\n\u001b[1;32m   (...)\u001b[0m\n\u001b[0;32m     70\u001b[0m \u001b[39m    :rtype: requests.Response\u001b[39;00m\n\u001b[0;32m     71\u001b[0m \u001b[39m    \"\"\"\u001b[39;00m\n\u001b[1;32m---> 73\u001b[0m     \u001b[39mreturn\u001b[39;00m request(\u001b[39m\"\u001b[39;49m\u001b[39mget\u001b[39;49m\u001b[39m\"\u001b[39;49m, url, params\u001b[39m=\u001b[39;49mparams, \u001b[39m*\u001b[39;49m\u001b[39m*\u001b[39;49mkwargs)\n",
      "File \u001b[1;32md:\\Anaconda\\envs\\MLOps\\Lib\\site-packages\\requests\\api.py:59\u001b[0m, in \u001b[0;36mrequest\u001b[1;34m(method, url, **kwargs)\u001b[0m\n\u001b[0;32m     55\u001b[0m \u001b[39m# By using the 'with' statement we are sure the session is closed, thus we\u001b[39;00m\n\u001b[0;32m     56\u001b[0m \u001b[39m# avoid leaving sockets open which can trigger a ResourceWarning in some\u001b[39;00m\n\u001b[0;32m     57\u001b[0m \u001b[39m# cases, and look like a memory leak in others.\u001b[39;00m\n\u001b[0;32m     58\u001b[0m \u001b[39mwith\u001b[39;00m sessions\u001b[39m.\u001b[39mSession() \u001b[39mas\u001b[39;00m session:\n\u001b[1;32m---> 59\u001b[0m     \u001b[39mreturn\u001b[39;00m session\u001b[39m.\u001b[39;49mrequest(method\u001b[39m=\u001b[39;49mmethod, url\u001b[39m=\u001b[39;49murl, \u001b[39m*\u001b[39;49m\u001b[39m*\u001b[39;49mkwargs)\n",
      "File \u001b[1;32md:\\Anaconda\\envs\\MLOps\\Lib\\site-packages\\requests\\sessions.py:589\u001b[0m, in \u001b[0;36mSession.request\u001b[1;34m(self, method, url, params, data, headers, cookies, files, auth, timeout, allow_redirects, proxies, hooks, stream, verify, cert, json)\u001b[0m\n\u001b[0;32m    584\u001b[0m send_kwargs \u001b[39m=\u001b[39m {\n\u001b[0;32m    585\u001b[0m     \u001b[39m\"\u001b[39m\u001b[39mtimeout\u001b[39m\u001b[39m\"\u001b[39m: timeout,\n\u001b[0;32m    586\u001b[0m     \u001b[39m\"\u001b[39m\u001b[39mallow_redirects\u001b[39m\u001b[39m\"\u001b[39m: allow_redirects,\n\u001b[0;32m    587\u001b[0m }\n\u001b[0;32m    588\u001b[0m send_kwargs\u001b[39m.\u001b[39mupdate(settings)\n\u001b[1;32m--> 589\u001b[0m resp \u001b[39m=\u001b[39m \u001b[39mself\u001b[39;49m\u001b[39m.\u001b[39;49msend(prep, \u001b[39m*\u001b[39;49m\u001b[39m*\u001b[39;49msend_kwargs)\n\u001b[0;32m    591\u001b[0m \u001b[39mreturn\u001b[39;00m resp\n",
      "File \u001b[1;32md:\\Anaconda\\envs\\MLOps\\Lib\\site-packages\\requests\\sessions.py:747\u001b[0m, in \u001b[0;36mSession.send\u001b[1;34m(self, request, **kwargs)\u001b[0m\n\u001b[0;32m    744\u001b[0m         \u001b[39mpass\u001b[39;00m\n\u001b[0;32m    746\u001b[0m \u001b[39mif\u001b[39;00m \u001b[39mnot\u001b[39;00m stream:\n\u001b[1;32m--> 747\u001b[0m     r\u001b[39m.\u001b[39;49mcontent\n\u001b[0;32m    749\u001b[0m \u001b[39mreturn\u001b[39;00m r\n",
      "File \u001b[1;32md:\\Anaconda\\envs\\MLOps\\Lib\\site-packages\\requests\\models.py:899\u001b[0m, in \u001b[0;36mResponse.content\u001b[1;34m(self)\u001b[0m\n\u001b[0;32m    897\u001b[0m         \u001b[39mself\u001b[39m\u001b[39m.\u001b[39m_content \u001b[39m=\u001b[39m \u001b[39mNone\u001b[39;00m\n\u001b[0;32m    898\u001b[0m     \u001b[39melse\u001b[39;00m:\n\u001b[1;32m--> 899\u001b[0m         \u001b[39mself\u001b[39m\u001b[39m.\u001b[39m_content \u001b[39m=\u001b[39m \u001b[39mb\u001b[39;49m\u001b[39m\"\u001b[39;49m\u001b[39m\"\u001b[39;49m\u001b[39m.\u001b[39;49mjoin(\u001b[39mself\u001b[39;49m\u001b[39m.\u001b[39;49miter_content(CONTENT_CHUNK_SIZE)) \u001b[39mor\u001b[39;00m \u001b[39mb\u001b[39m\u001b[39m\"\u001b[39m\u001b[39m\"\u001b[39m\n\u001b[0;32m    901\u001b[0m \u001b[39mself\u001b[39m\u001b[39m.\u001b[39m_content_consumed \u001b[39m=\u001b[39m \u001b[39mTrue\u001b[39;00m\n\u001b[0;32m    902\u001b[0m \u001b[39m# don't need to release the connection; that's been handled by urllib3\u001b[39;00m\n\u001b[0;32m    903\u001b[0m \u001b[39m# since we exhausted the data.\u001b[39;00m\n",
      "File \u001b[1;32md:\\Anaconda\\envs\\MLOps\\Lib\\site-packages\\requests\\models.py:816\u001b[0m, in \u001b[0;36mResponse.iter_content.<locals>.generate\u001b[1;34m()\u001b[0m\n\u001b[0;32m    814\u001b[0m \u001b[39mif\u001b[39;00m \u001b[39mhasattr\u001b[39m(\u001b[39mself\u001b[39m\u001b[39m.\u001b[39mraw, \u001b[39m\"\u001b[39m\u001b[39mstream\u001b[39m\u001b[39m\"\u001b[39m):\n\u001b[0;32m    815\u001b[0m     \u001b[39mtry\u001b[39;00m:\n\u001b[1;32m--> 816\u001b[0m         \u001b[39myield from\u001b[39;00m \u001b[39mself\u001b[39m\u001b[39m.\u001b[39mraw\u001b[39m.\u001b[39mstream(chunk_size, decode_content\u001b[39m=\u001b[39m\u001b[39mTrue\u001b[39;00m)\n\u001b[0;32m    817\u001b[0m     \u001b[39mexcept\u001b[39;00m ProtocolError \u001b[39mas\u001b[39;00m e:\n\u001b[0;32m    818\u001b[0m         \u001b[39mraise\u001b[39;00m ChunkedEncodingError(e)\n",
      "File \u001b[1;32md:\\Anaconda\\envs\\MLOps\\Lib\\site-packages\\urllib3\\response.py:624\u001b[0m, in \u001b[0;36mHTTPResponse.stream\u001b[1;34m(self, amt, decode_content)\u001b[0m\n\u001b[0;32m    608\u001b[0m \u001b[39m\u001b[39m\u001b[39m\"\"\"\u001b[39;00m\n\u001b[0;32m    609\u001b[0m \u001b[39mA generator wrapper for the read() method. A call will block until\u001b[39;00m\n\u001b[0;32m    610\u001b[0m \u001b[39m``amt`` bytes have been read from the connection or until the\u001b[39;00m\n\u001b[1;32m   (...)\u001b[0m\n\u001b[0;32m    621\u001b[0m \u001b[39m    'content-encoding' header.\u001b[39;00m\n\u001b[0;32m    622\u001b[0m \u001b[39m\"\"\"\u001b[39;00m\n\u001b[0;32m    623\u001b[0m \u001b[39mif\u001b[39;00m \u001b[39mself\u001b[39m\u001b[39m.\u001b[39mchunked \u001b[39mand\u001b[39;00m \u001b[39mself\u001b[39m\u001b[39m.\u001b[39msupports_chunked_reads():\n\u001b[1;32m--> 624\u001b[0m     \u001b[39mfor\u001b[39;00m line \u001b[39min\u001b[39;00m \u001b[39mself\u001b[39m\u001b[39m.\u001b[39mread_chunked(amt, decode_content\u001b[39m=\u001b[39mdecode_content):\n\u001b[0;32m    625\u001b[0m         \u001b[39myield\u001b[39;00m line\n\u001b[0;32m    626\u001b[0m \u001b[39melse\u001b[39;00m:\n",
      "File \u001b[1;32md:\\Anaconda\\envs\\MLOps\\Lib\\site-packages\\urllib3\\response.py:828\u001b[0m, in \u001b[0;36mHTTPResponse.read_chunked\u001b[1;34m(self, amt, decode_content)\u001b[0m\n\u001b[0;32m    825\u001b[0m     \u001b[39mreturn\u001b[39;00m\n\u001b[0;32m    827\u001b[0m \u001b[39mwhile\u001b[39;00m \u001b[39mTrue\u001b[39;00m:\n\u001b[1;32m--> 828\u001b[0m     \u001b[39mself\u001b[39;49m\u001b[39m.\u001b[39;49m_update_chunk_length()\n\u001b[0;32m    829\u001b[0m     \u001b[39mif\u001b[39;00m \u001b[39mself\u001b[39m\u001b[39m.\u001b[39mchunk_left \u001b[39m==\u001b[39m \u001b[39m0\u001b[39m:\n\u001b[0;32m    830\u001b[0m         \u001b[39mbreak\u001b[39;00m\n",
      "File \u001b[1;32md:\\Anaconda\\envs\\MLOps\\Lib\\site-packages\\urllib3\\response.py:758\u001b[0m, in \u001b[0;36mHTTPResponse._update_chunk_length\u001b[1;34m(self)\u001b[0m\n\u001b[0;32m    756\u001b[0m \u001b[39mif\u001b[39;00m \u001b[39mself\u001b[39m\u001b[39m.\u001b[39mchunk_left \u001b[39mis\u001b[39;00m \u001b[39mnot\u001b[39;00m \u001b[39mNone\u001b[39;00m:\n\u001b[0;32m    757\u001b[0m     \u001b[39mreturn\u001b[39;00m\n\u001b[1;32m--> 758\u001b[0m line \u001b[39m=\u001b[39m \u001b[39mself\u001b[39m\u001b[39m.\u001b[39m_fp\u001b[39m.\u001b[39mfp\u001b[39m.\u001b[39mreadline()\n\u001b[0;32m    759\u001b[0m line \u001b[39m=\u001b[39m line\u001b[39m.\u001b[39msplit(\u001b[39mb\u001b[39m\u001b[39m\"\u001b[39m\u001b[39m;\u001b[39m\u001b[39m\"\u001b[39m, \u001b[39m1\u001b[39m)[\u001b[39m0\u001b[39m]\n\u001b[0;32m    760\u001b[0m \u001b[39mtry\u001b[39;00m:\n",
      "File \u001b[1;32md:\\Anaconda\\envs\\MLOps\\Lib\\socket.py:706\u001b[0m, in \u001b[0;36mSocketIO.readinto\u001b[1;34m(self, b)\u001b[0m\n\u001b[0;32m    704\u001b[0m \u001b[39mwhile\u001b[39;00m \u001b[39mTrue\u001b[39;00m:\n\u001b[0;32m    705\u001b[0m     \u001b[39mtry\u001b[39;00m:\n\u001b[1;32m--> 706\u001b[0m         \u001b[39mreturn\u001b[39;00m \u001b[39mself\u001b[39;49m\u001b[39m.\u001b[39;49m_sock\u001b[39m.\u001b[39;49mrecv_into(b)\n\u001b[0;32m    707\u001b[0m     \u001b[39mexcept\u001b[39;00m timeout:\n\u001b[0;32m    708\u001b[0m         \u001b[39mself\u001b[39m\u001b[39m.\u001b[39m_timeout_occurred \u001b[39m=\u001b[39m \u001b[39mTrue\u001b[39;00m\n",
      "File \u001b[1;32md:\\Anaconda\\envs\\MLOps\\Lib\\ssl.py:1311\u001b[0m, in \u001b[0;36mSSLSocket.recv_into\u001b[1;34m(self, buffer, nbytes, flags)\u001b[0m\n\u001b[0;32m   1307\u001b[0m     \u001b[39mif\u001b[39;00m flags \u001b[39m!=\u001b[39m \u001b[39m0\u001b[39m:\n\u001b[0;32m   1308\u001b[0m         \u001b[39mraise\u001b[39;00m \u001b[39mValueError\u001b[39;00m(\n\u001b[0;32m   1309\u001b[0m           \u001b[39m\"\u001b[39m\u001b[39mnon-zero flags not allowed in calls to recv_into() on \u001b[39m\u001b[39m%s\u001b[39;00m\u001b[39m\"\u001b[39m \u001b[39m%\u001b[39m\n\u001b[0;32m   1310\u001b[0m           \u001b[39mself\u001b[39m\u001b[39m.\u001b[39m\u001b[39m__class__\u001b[39m)\n\u001b[1;32m-> 1311\u001b[0m     \u001b[39mreturn\u001b[39;00m \u001b[39mself\u001b[39;49m\u001b[39m.\u001b[39;49mread(nbytes, buffer)\n\u001b[0;32m   1312\u001b[0m \u001b[39melse\u001b[39;00m:\n\u001b[0;32m   1313\u001b[0m     \u001b[39mreturn\u001b[39;00m \u001b[39msuper\u001b[39m()\u001b[39m.\u001b[39mrecv_into(buffer, nbytes, flags)\n",
      "File \u001b[1;32md:\\Anaconda\\envs\\MLOps\\Lib\\ssl.py:1167\u001b[0m, in \u001b[0;36mSSLSocket.read\u001b[1;34m(self, len, buffer)\u001b[0m\n\u001b[0;32m   1165\u001b[0m \u001b[39mtry\u001b[39;00m:\n\u001b[0;32m   1166\u001b[0m     \u001b[39mif\u001b[39;00m buffer \u001b[39mis\u001b[39;00m \u001b[39mnot\u001b[39;00m \u001b[39mNone\u001b[39;00m:\n\u001b[1;32m-> 1167\u001b[0m         \u001b[39mreturn\u001b[39;00m \u001b[39mself\u001b[39;49m\u001b[39m.\u001b[39;49m_sslobj\u001b[39m.\u001b[39;49mread(\u001b[39mlen\u001b[39;49m, buffer)\n\u001b[0;32m   1168\u001b[0m     \u001b[39melse\u001b[39;00m:\n\u001b[0;32m   1169\u001b[0m         \u001b[39mreturn\u001b[39;00m \u001b[39mself\u001b[39m\u001b[39m.\u001b[39m_sslobj\u001b[39m.\u001b[39mread(\u001b[39mlen\u001b[39m)\n",
      "\u001b[1;31mKeyboardInterrupt\u001b[0m: "
     ]
    }
   ],
   "source": [
    "\n",
    "'''\n",
    "Get data from 30-06-2020 to 31-12-2021 to train machine learning model\n",
    "API: https://www.energidataservice.dk/guides/api-guides\n",
    "'''\n",
    "\n",
    "base_url = \"https://api.energidataservice.dk/dataset/ConsumptionDE35Hour\"\n",
    "\n",
    "params = {\n",
    "    \"start\": \"2020-06-30\",\n",
    "    \"end\": \"2022-01-01\",\n",
    "    \"columns\": \"HourDK,PriceArea,ConsumerType_DE35,TotalCon\",\n",
    "    \"limit\": \"0\"\n",
    "}\n",
    "\n",
    "response = requests.get(base_url, params=params)\n",
    "data = response.json()['records']\n",
    "\n",
    "df = pd.DataFrame(data)"
   ]
  },
  {
   "cell_type": "code",
   "execution_count": null,
   "metadata": {},
   "outputs": [
    {
     "data": {
      "text/html": [
       "<div>\n",
       "<style scoped>\n",
       "    .dataframe tbody tr th:only-of-type {\n",
       "        vertical-align: middle;\n",
       "    }\n",
       "\n",
       "    .dataframe tbody tr th {\n",
       "        vertical-align: top;\n",
       "    }\n",
       "\n",
       "    .dataframe thead th {\n",
       "        text-align: right;\n",
       "    }\n",
       "</style>\n",
       "<table border=\"1\" class=\"dataframe\">\n",
       "  <thead>\n",
       "    <tr style=\"text-align: right;\">\n",
       "      <th></th>\n",
       "      <th>HourDK</th>\n",
       "      <th>PriceArea</th>\n",
       "      <th>ConsumerType_DE35</th>\n",
       "      <th>TotalCon</th>\n",
       "    </tr>\n",
       "  </thead>\n",
       "  <tbody>\n",
       "    <tr>\n",
       "      <th>0</th>\n",
       "      <td>2021-12-31 23:00:00</td>\n",
       "      <td>DK1</td>\n",
       "      <td>111</td>\n",
       "      <td>77141</td>\n",
       "    </tr>\n",
       "    <tr>\n",
       "      <th>1</th>\n",
       "      <td>2021-12-31 23:00:00</td>\n",
       "      <td>DK1</td>\n",
       "      <td>112</td>\n",
       "      <td>2974</td>\n",
       "    </tr>\n",
       "    <tr>\n",
       "      <th>2</th>\n",
       "      <td>2021-12-31 23:00:00</td>\n",
       "      <td>DK1</td>\n",
       "      <td>119</td>\n",
       "      <td>25668</td>\n",
       "    </tr>\n",
       "    <tr>\n",
       "      <th>3</th>\n",
       "      <td>2021-12-31 23:00:00</td>\n",
       "      <td>DK1</td>\n",
       "      <td>121</td>\n",
       "      <td>346616</td>\n",
       "    </tr>\n",
       "    <tr>\n",
       "      <th>4</th>\n",
       "      <td>2021-12-31 23:00:00</td>\n",
       "      <td>DK1</td>\n",
       "      <td>122</td>\n",
       "      <td>66095</td>\n",
       "    </tr>\n",
       "  </tbody>\n",
       "</table>\n",
       "</div>"
      ],
      "text/plain": [
       "               HourDK PriceArea ConsumerType_DE35  TotalCon\n",
       "0 2021-12-31 23:00:00       DK1               111     77141\n",
       "1 2021-12-31 23:00:00       DK1               112      2974\n",
       "2 2021-12-31 23:00:00       DK1               119     25668\n",
       "3 2021-12-31 23:00:00       DK1               121    346616\n",
       "4 2021-12-31 23:00:00       DK1               122     66095"
      ]
     },
     "execution_count": 3,
     "metadata": {},
     "output_type": "execute_result"
    }
   ],
   "source": [
    "df.head()"
   ]
  },
  {
   "cell_type": "code",
   "execution_count": null,
   "metadata": {},
   "outputs": [
    {
     "name": "stdout",
     "output_type": "stream",
     "text": [
      "<class 'pandas.core.frame.DataFrame'>\n",
      "RangeIndex: 1003276 entries, 0 to 1003275\n",
      "Data columns (total 4 columns):\n",
      " #   Column             Non-Null Count    Dtype         \n",
      "---  ------             --------------    -----         \n",
      " 0   HourDK             1003276 non-null  datetime64[ns]\n",
      " 1   PriceArea          1003276 non-null  object        \n",
      " 2   ConsumerType_DE35  1003276 non-null  object        \n",
      " 3   TotalCon           1003276 non-null  int64         \n",
      "dtypes: datetime64[ns](1), int64(1), object(2)\n",
      "memory usage: 30.6+ MB\n"
     ]
    }
   ],
   "source": [
    "df.info()"
   ]
  },
  {
   "cell_type": "code",
   "execution_count": null,
   "metadata": {},
   "outputs": [],
   "source": [
    "# Change hour column to datetime dtype\n",
    "df['HourDK'] = pd.to_datetime(df['HourDK'], errors = 'coerce')\n",
    "\n",
    "# change consumer type to string\n",
    "df['ConsumerType_DE35'] = df['ConsumerType_DE35'].astype(str)"
   ]
  },
  {
   "cell_type": "code",
   "execution_count": null,
   "metadata": {},
   "outputs": [
    {
     "name": "stdout",
     "output_type": "stream",
     "text": [
      "<class 'pandas.core.frame.DataFrame'>\n",
      "RangeIndex: 1003276 entries, 0 to 1003275\n",
      "Data columns (total 9 columns):\n",
      " #   Column             Non-Null Count    Dtype \n",
      "---  ------             --------------    ----- \n",
      " 0   PriceArea          1003276 non-null  object\n",
      " 1   ConsumerType_DE35  1003276 non-null  object\n",
      " 2   TotalCon           1003276 non-null  int64 \n",
      " 3   HourDK_year        1003276 non-null  int64 \n",
      " 4   HourDK_month       1003276 non-null  int64 \n",
      " 5   HourDK_day         1003276 non-null  int64 \n",
      " 6   HourDK_hour        1003276 non-null  int64 \n",
      " 7   HourDK_weekofyear  1003276 non-null  int64 \n",
      " 8   HourDK_dayofweek   1003276 non-null  int64 \n",
      "dtypes: int64(7), object(2)\n",
      "memory usage: 68.9+ MB\n"
     ]
    }
   ],
   "source": [
    "# Feature Engineering\n",
    "df['HourDK_year'] = df['HourDK'].dt.year.astype(np.int64)\n",
    "df['HourDK_month'] = df['HourDK'].dt.month.astype(np.int64)\n",
    "df['HourDK_day'] = df['HourDK'].dt.day.astype(np.int64)\n",
    "df['HourDK_hour'] = df['HourDK'].dt.hour.astype(np.int64)\n",
    "df['HourDK_weekofyear'] = df['HourDK'].dt.isocalendar().week.astype(np.int64)\n",
    "df['HourDK_dayofweek'] = df['HourDK'].dt.dayofweek.astype(np.int64)\n",
    "\n",
    "df= df.drop(columns=['HourDK'])\n",
    "df.info()"
   ]
  },
  {
   "cell_type": "code",
   "execution_count": null,
   "metadata": {},
   "outputs": [],
   "source": [
    "from sklearn.model_selection import train_test_split\n",
    "\n",
    "# Define features and target variable\n",
    "X = df.drop(columns=['TotalCon'])\n",
    "y = df['TotalCon']\n",
    "\n",
    "# Split the dataset into training and testing sets\n",
    "X_train, X_test, y_train, y_test = train_test_split(X, y, test_size=0.2, random_state=1)"
   ]
  },
  {
   "cell_type": "code",
   "execution_count": null,
   "metadata": {},
   "outputs": [
    {
     "data": {
      "text/plain": [
       "PriceArea             DK2\n",
       "ConsumerType_DE35     310\n",
       "HourDK_year          2020\n",
       "HourDK_month            7\n",
       "HourDK_day              1\n",
       "HourDK_hour             1\n",
       "HourDK_weekofyear      27\n",
       "HourDK_dayofweek        2\n",
       "Name: 1001349, dtype: object"
      ]
     },
     "execution_count": 8,
     "metadata": {},
     "output_type": "execute_result"
    }
   ],
   "source": [
    "X_train.loc[1001349]"
   ]
  },
  {
   "cell_type": "code",
   "execution_count": null,
   "metadata": {},
   "outputs": [],
   "source": [
    "# modelling \n",
    "from sklearn.model_selection import GridSearchCV\n",
    "from sklearn.pipeline import make_pipeline\n",
    "from sklearn.compose import ColumnTransformer\n",
    "from sklearn.preprocessing import StandardScaler, OneHotEncoder\n",
    "from sklearn.ensemble import RandomForestRegressor, GradientBoostingRegressor\n",
    "from sklearn.svm import SVR\n",
    "from sklearn.metrics import mean_squared_error"
   ]
  },
  {
   "cell_type": "code",
   "execution_count": null,
   "metadata": {},
   "outputs": [],
   "source": [
    "scaler = StandardScaler()\n",
    "encoder = OneHotEncoder(handle_unknown='ignore')\n",
    "\n",
    "transformed_X_train = X_train.copy()\n",
    "transformed_y_train = y_train\n",
    "\n",
    "numeric_features = ['HourDK_year','HourDK_month','HourDK_day','HourDK_hour','HourDK_weekofyear','HourDK_dayofweek']\n",
    "categorical_features = ['PriceArea', 'ConsumerType_DE35']\n",
    "\n",
    "transformed_X_train[numeric_features] = scaler.fit_transform(X_train[numeric_features])\n",
    "\n",
    "categorical_encoded = encoder.fit_transform(X_train[categorical_features]).toarray()\n",
    "categorical_encoded_df = pd.DataFrame(categorical_encoded, columns=encoder.get_feature_names_out(categorical_features))\n",
    "transformed_X_train.drop(categorical_features, axis=1, inplace=True)\n",
    "transformed_X_train = pd.concat([transformed_X_train.reset_index(drop=True), categorical_encoded_df], axis=1)\n"
   ]
  },
  {
   "cell_type": "code",
   "execution_count": null,
   "metadata": {},
   "outputs": [
    {
     "name": "stdout",
     "output_type": "stream",
     "text": [
      "Empty DataFrame\n",
      "Columns: [HourDK_year, HourDK_month, HourDK_day, HourDK_hour, HourDK_weekofyear, HourDK_dayofweek, PriceArea_DK1, PriceArea_DK2, ConsumerType_DE35_111, ConsumerType_DE35_112, ConsumerType_DE35_119, ConsumerType_DE35_121, ConsumerType_DE35_122, ConsumerType_DE35_123, ConsumerType_DE35_130, ConsumerType_DE35_211, ConsumerType_DE35_212, ConsumerType_DE35_215, ConsumerType_DE35_220, ConsumerType_DE35_310, ConsumerType_DE35_320, ConsumerType_DE35_330, ConsumerType_DE35_340, ConsumerType_DE35_350, ConsumerType_DE35_360, ConsumerType_DE35_370, ConsumerType_DE35_381, ConsumerType_DE35_382, ConsumerType_DE35_390, ConsumerType_DE35_410, ConsumerType_DE35_421, ConsumerType_DE35_422, ConsumerType_DE35_431, ConsumerType_DE35_432, ConsumerType_DE35_433, ConsumerType_DE35_441, ConsumerType_DE35_442, ConsumerType_DE35_443, ConsumerType_DE35_444, ConsumerType_DE35_445, ConsumerType_DE35_446, ConsumerType_DE35_447, ConsumerType_DE35_450, ConsumerType_DE35_461, ConsumerType_DE35_462, ConsumerType_DE35_999]\n",
      "Index: []\n",
      "\n",
      "[0 rows x 46 columns]\n"
     ]
    }
   ],
   "source": [
    "datetime_records = transformed_X_train[transformed_X_train.apply(lambda row: any(isinstance(val, pd.Timestamp) for val in row), axis=1)]\n",
    "print(datetime_records)"
   ]
  },
  {
   "cell_type": "code",
   "execution_count": null,
   "metadata": {},
   "outputs": [
    {
     "name": "stdout",
     "output_type": "stream",
     "text": [
      "<class 'pandas.core.frame.DataFrame'>\n",
      "RangeIndex: 802620 entries, 0 to 802619\n",
      "Data columns (total 46 columns):\n",
      " #   Column                 Non-Null Count   Dtype  \n",
      "---  ------                 --------------   -----  \n",
      " 0   HourDK_year            802620 non-null  float64\n",
      " 1   HourDK_month           802620 non-null  float64\n",
      " 2   HourDK_day             802620 non-null  float64\n",
      " 3   HourDK_hour            802620 non-null  float64\n",
      " 4   HourDK_weekofyear      802620 non-null  float64\n",
      " 5   HourDK_dayofweek       802620 non-null  float64\n",
      " 6   PriceArea_DK1          802620 non-null  float64\n",
      " 7   PriceArea_DK2          802620 non-null  float64\n",
      " 8   ConsumerType_DE35_111  802620 non-null  float64\n",
      " 9   ConsumerType_DE35_112  802620 non-null  float64\n",
      " 10  ConsumerType_DE35_119  802620 non-null  float64\n",
      " 11  ConsumerType_DE35_121  802620 non-null  float64\n",
      " 12  ConsumerType_DE35_122  802620 non-null  float64\n",
      " 13  ConsumerType_DE35_123  802620 non-null  float64\n",
      " 14  ConsumerType_DE35_130  802620 non-null  float64\n",
      " 15  ConsumerType_DE35_211  802620 non-null  float64\n",
      " 16  ConsumerType_DE35_212  802620 non-null  float64\n",
      " 17  ConsumerType_DE35_215  802620 non-null  float64\n",
      " 18  ConsumerType_DE35_220  802620 non-null  float64\n",
      " 19  ConsumerType_DE35_310  802620 non-null  float64\n",
      " 20  ConsumerType_DE35_320  802620 non-null  float64\n",
      " 21  ConsumerType_DE35_330  802620 non-null  float64\n",
      " 22  ConsumerType_DE35_340  802620 non-null  float64\n",
      " 23  ConsumerType_DE35_350  802620 non-null  float64\n",
      " 24  ConsumerType_DE35_360  802620 non-null  float64\n",
      " 25  ConsumerType_DE35_370  802620 non-null  float64\n",
      " 26  ConsumerType_DE35_381  802620 non-null  float64\n",
      " 27  ConsumerType_DE35_382  802620 non-null  float64\n",
      " 28  ConsumerType_DE35_390  802620 non-null  float64\n",
      " 29  ConsumerType_DE35_410  802620 non-null  float64\n",
      " 30  ConsumerType_DE35_421  802620 non-null  float64\n",
      " 31  ConsumerType_DE35_422  802620 non-null  float64\n",
      " 32  ConsumerType_DE35_431  802620 non-null  float64\n",
      " 33  ConsumerType_DE35_432  802620 non-null  float64\n",
      " 34  ConsumerType_DE35_433  802620 non-null  float64\n",
      " 35  ConsumerType_DE35_441  802620 non-null  float64\n",
      " 36  ConsumerType_DE35_442  802620 non-null  float64\n",
      " 37  ConsumerType_DE35_443  802620 non-null  float64\n",
      " 38  ConsumerType_DE35_444  802620 non-null  float64\n",
      " 39  ConsumerType_DE35_445  802620 non-null  float64\n",
      " 40  ConsumerType_DE35_446  802620 non-null  float64\n",
      " 41  ConsumerType_DE35_447  802620 non-null  float64\n",
      " 42  ConsumerType_DE35_450  802620 non-null  float64\n",
      " 43  ConsumerType_DE35_461  802620 non-null  float64\n",
      " 44  ConsumerType_DE35_462  802620 non-null  float64\n",
      " 45  ConsumerType_DE35_999  802620 non-null  float64\n",
      "dtypes: float64(46)\n",
      "memory usage: 281.7 MB\n"
     ]
    }
   ],
   "source": [
    "transformed_X_train.info()"
   ]
  },
  {
   "cell_type": "code",
   "execution_count": null,
   "metadata": {},
   "outputs": [],
   "source": [
    "transformed_X_test = X_test.copy()\n",
    "transformed_y_test = y_test\n",
    "\n",
    "numeric_features = ['HourDK_year','HourDK_month','HourDK_day','HourDK_hour','HourDK_weekofyear','HourDK_dayofweek']\n",
    "categorical_features = ['PriceArea', 'ConsumerType_DE35']\n",
    "\n",
    "transformed_X_test[numeric_features] = scaler.transform(X_test[numeric_features])\n",
    "\n",
    "categorical_encoded_test = encoder.transform(X_test[categorical_features]).toarray()\n",
    "categorical_encoded_test_df = pd.DataFrame(categorical_encoded, columns=encoder.get_feature_names_out(categorical_features))\n",
    "transformed_X_test.drop(categorical_features, axis=1, inplace=True)\n",
    "transformed_X_test = pd.concat([transformed_X_test.reset_index(drop=True), categorical_encoded_df], axis=1)"
   ]
  },
  {
   "cell_type": "code",
   "execution_count": null,
   "metadata": {},
   "outputs": [
    {
     "name": "stdout",
     "output_type": "stream",
     "text": [
      "<class 'pandas.core.frame.DataFrame'>\n",
      "RangeIndex: 802620 entries, 0 to 802619\n",
      "Data columns (total 46 columns):\n",
      " #   Column                 Non-Null Count   Dtype  \n",
      "---  ------                 --------------   -----  \n",
      " 0   HourDK_year            200656 non-null  float64\n",
      " 1   HourDK_month           200656 non-null  float64\n",
      " 2   HourDK_day             200656 non-null  float64\n",
      " 3   HourDK_hour            200656 non-null  float64\n",
      " 4   HourDK_weekofyear      200656 non-null  float64\n",
      " 5   HourDK_dayofweek       200656 non-null  float64\n",
      " 6   PriceArea_DK1          802620 non-null  float64\n",
      " 7   PriceArea_DK2          802620 non-null  float64\n",
      " 8   ConsumerType_DE35_111  802620 non-null  float64\n",
      " 9   ConsumerType_DE35_112  802620 non-null  float64\n",
      " 10  ConsumerType_DE35_119  802620 non-null  float64\n",
      " 11  ConsumerType_DE35_121  802620 non-null  float64\n",
      " 12  ConsumerType_DE35_122  802620 non-null  float64\n",
      " 13  ConsumerType_DE35_123  802620 non-null  float64\n",
      " 14  ConsumerType_DE35_130  802620 non-null  float64\n",
      " 15  ConsumerType_DE35_211  802620 non-null  float64\n",
      " 16  ConsumerType_DE35_212  802620 non-null  float64\n",
      " 17  ConsumerType_DE35_215  802620 non-null  float64\n",
      " 18  ConsumerType_DE35_220  802620 non-null  float64\n",
      " 19  ConsumerType_DE35_310  802620 non-null  float64\n",
      " 20  ConsumerType_DE35_320  802620 non-null  float64\n",
      " 21  ConsumerType_DE35_330  802620 non-null  float64\n",
      " 22  ConsumerType_DE35_340  802620 non-null  float64\n",
      " 23  ConsumerType_DE35_350  802620 non-null  float64\n",
      " 24  ConsumerType_DE35_360  802620 non-null  float64\n",
      " 25  ConsumerType_DE35_370  802620 non-null  float64\n",
      " 26  ConsumerType_DE35_381  802620 non-null  float64\n",
      " 27  ConsumerType_DE35_382  802620 non-null  float64\n",
      " 28  ConsumerType_DE35_390  802620 non-null  float64\n",
      " 29  ConsumerType_DE35_410  802620 non-null  float64\n",
      " 30  ConsumerType_DE35_421  802620 non-null  float64\n",
      " 31  ConsumerType_DE35_422  802620 non-null  float64\n",
      " 32  ConsumerType_DE35_431  802620 non-null  float64\n",
      " 33  ConsumerType_DE35_432  802620 non-null  float64\n",
      " 34  ConsumerType_DE35_433  802620 non-null  float64\n",
      " 35  ConsumerType_DE35_441  802620 non-null  float64\n",
      " 36  ConsumerType_DE35_442  802620 non-null  float64\n",
      " 37  ConsumerType_DE35_443  802620 non-null  float64\n",
      " 38  ConsumerType_DE35_444  802620 non-null  float64\n",
      " 39  ConsumerType_DE35_445  802620 non-null  float64\n",
      " 40  ConsumerType_DE35_446  802620 non-null  float64\n",
      " 41  ConsumerType_DE35_447  802620 non-null  float64\n",
      " 42  ConsumerType_DE35_450  802620 non-null  float64\n",
      " 43  ConsumerType_DE35_461  802620 non-null  float64\n",
      " 44  ConsumerType_DE35_462  802620 non-null  float64\n",
      " 45  ConsumerType_DE35_999  802620 non-null  float64\n",
      "dtypes: float64(46)\n",
      "memory usage: 281.7 MB\n"
     ]
    }
   ],
   "source": [
    "transformed_X_test.info()"
   ]
  },
  {
   "cell_type": "code",
   "execution_count": null,
   "metadata": {},
   "outputs": [
    {
     "ename": "KeyboardInterrupt",
     "evalue": "",
     "output_type": "error",
     "traceback": [
      "\u001b[1;31m---------------------------------------------------------------------------\u001b[0m",
      "\u001b[1;31mKeyboardInterrupt\u001b[0m                         Traceback (most recent call last)",
      "\u001b[1;32md:\\Projects\\MLOps\\dataplay.ipynb Cell 15\u001b[0m line \u001b[0;36m2\n\u001b[0;32m      <a href='vscode-notebook-cell:/d%3A/Projects/MLOps/dataplay.ipynb#X25sZmlsZQ%3D%3D?line=0'>1</a>\u001b[0m rfr \u001b[39m=\u001b[39m RandomForestRegressor(n_estimators\u001b[39m=\u001b[39m\u001b[39m200\u001b[39m, max_depth\u001b[39m=\u001b[39m\u001b[39m20\u001b[39m)\n\u001b[1;32m----> <a href='vscode-notebook-cell:/d%3A/Projects/MLOps/dataplay.ipynb#X25sZmlsZQ%3D%3D?line=1'>2</a>\u001b[0m rfr\u001b[39m.\u001b[39;49mfit(transformed_X_train, transformed_y_train)\n",
      "File \u001b[1;32md:\\Anaconda\\envs\\MLOps\\Lib\\site-packages\\sklearn\\base.py:1151\u001b[0m, in \u001b[0;36m_fit_context.<locals>.decorator.<locals>.wrapper\u001b[1;34m(estimator, *args, **kwargs)\u001b[0m\n\u001b[0;32m   1144\u001b[0m     estimator\u001b[39m.\u001b[39m_validate_params()\n\u001b[0;32m   1146\u001b[0m \u001b[39mwith\u001b[39;00m config_context(\n\u001b[0;32m   1147\u001b[0m     skip_parameter_validation\u001b[39m=\u001b[39m(\n\u001b[0;32m   1148\u001b[0m         prefer_skip_nested_validation \u001b[39mor\u001b[39;00m global_skip_validation\n\u001b[0;32m   1149\u001b[0m     )\n\u001b[0;32m   1150\u001b[0m ):\n\u001b[1;32m-> 1151\u001b[0m     \u001b[39mreturn\u001b[39;00m fit_method(estimator, \u001b[39m*\u001b[39;49margs, \u001b[39m*\u001b[39;49m\u001b[39m*\u001b[39;49mkwargs)\n",
      "File \u001b[1;32md:\\Anaconda\\envs\\MLOps\\Lib\\site-packages\\sklearn\\ensemble\\_forest.py:456\u001b[0m, in \u001b[0;36mBaseForest.fit\u001b[1;34m(self, X, y, sample_weight)\u001b[0m\n\u001b[0;32m    445\u001b[0m trees \u001b[39m=\u001b[39m [\n\u001b[0;32m    446\u001b[0m     \u001b[39mself\u001b[39m\u001b[39m.\u001b[39m_make_estimator(append\u001b[39m=\u001b[39m\u001b[39mFalse\u001b[39;00m, random_state\u001b[39m=\u001b[39mrandom_state)\n\u001b[0;32m    447\u001b[0m     \u001b[39mfor\u001b[39;00m i \u001b[39min\u001b[39;00m \u001b[39mrange\u001b[39m(n_more_estimators)\n\u001b[0;32m    448\u001b[0m ]\n\u001b[0;32m    450\u001b[0m \u001b[39m# Parallel loop: we prefer the threading backend as the Cython code\u001b[39;00m\n\u001b[0;32m    451\u001b[0m \u001b[39m# for fitting the trees is internally releasing the Python GIL\u001b[39;00m\n\u001b[0;32m    452\u001b[0m \u001b[39m# making threading more efficient than multiprocessing in\u001b[39;00m\n\u001b[0;32m    453\u001b[0m \u001b[39m# that case. However, for joblib 0.12+ we respect any\u001b[39;00m\n\u001b[0;32m    454\u001b[0m \u001b[39m# parallel_backend contexts set at a higher level,\u001b[39;00m\n\u001b[0;32m    455\u001b[0m \u001b[39m# since correctness does not rely on using threads.\u001b[39;00m\n\u001b[1;32m--> 456\u001b[0m trees \u001b[39m=\u001b[39m Parallel(\n\u001b[0;32m    457\u001b[0m     n_jobs\u001b[39m=\u001b[39;49m\u001b[39mself\u001b[39;49m\u001b[39m.\u001b[39;49mn_jobs,\n\u001b[0;32m    458\u001b[0m     verbose\u001b[39m=\u001b[39;49m\u001b[39mself\u001b[39;49m\u001b[39m.\u001b[39;49mverbose,\n\u001b[0;32m    459\u001b[0m     prefer\u001b[39m=\u001b[39;49m\u001b[39m\"\u001b[39;49m\u001b[39mthreads\u001b[39;49m\u001b[39m\"\u001b[39;49m,\n\u001b[0;32m    460\u001b[0m )(\n\u001b[0;32m    461\u001b[0m     delayed(_parallel_build_trees)(\n\u001b[0;32m    462\u001b[0m         t,\n\u001b[0;32m    463\u001b[0m         \u001b[39mself\u001b[39;49m\u001b[39m.\u001b[39;49mbootstrap,\n\u001b[0;32m    464\u001b[0m         X,\n\u001b[0;32m    465\u001b[0m         y,\n\u001b[0;32m    466\u001b[0m         sample_weight,\n\u001b[0;32m    467\u001b[0m         i,\n\u001b[0;32m    468\u001b[0m         \u001b[39mlen\u001b[39;49m(trees),\n\u001b[0;32m    469\u001b[0m         verbose\u001b[39m=\u001b[39;49m\u001b[39mself\u001b[39;49m\u001b[39m.\u001b[39;49mverbose,\n\u001b[0;32m    470\u001b[0m         class_weight\u001b[39m=\u001b[39;49m\u001b[39mself\u001b[39;49m\u001b[39m.\u001b[39;49mclass_weight,\n\u001b[0;32m    471\u001b[0m         n_samples_bootstrap\u001b[39m=\u001b[39;49mn_samples_bootstrap,\n\u001b[0;32m    472\u001b[0m     )\n\u001b[0;32m    473\u001b[0m     \u001b[39mfor\u001b[39;49;00m i, t \u001b[39min\u001b[39;49;00m \u001b[39menumerate\u001b[39;49m(trees)\n\u001b[0;32m    474\u001b[0m )\n\u001b[0;32m    476\u001b[0m \u001b[39m# Collect newly grown trees\u001b[39;00m\n\u001b[0;32m    477\u001b[0m \u001b[39mself\u001b[39m\u001b[39m.\u001b[39mestimators_\u001b[39m.\u001b[39mextend(trees)\n",
      "File \u001b[1;32md:\\Anaconda\\envs\\MLOps\\Lib\\site-packages\\sklearn\\utils\\parallel.py:65\u001b[0m, in \u001b[0;36mParallel.__call__\u001b[1;34m(self, iterable)\u001b[0m\n\u001b[0;32m     60\u001b[0m config \u001b[39m=\u001b[39m get_config()\n\u001b[0;32m     61\u001b[0m iterable_with_config \u001b[39m=\u001b[39m (\n\u001b[0;32m     62\u001b[0m     (_with_config(delayed_func, config), args, kwargs)\n\u001b[0;32m     63\u001b[0m     \u001b[39mfor\u001b[39;00m delayed_func, args, kwargs \u001b[39min\u001b[39;00m iterable\n\u001b[0;32m     64\u001b[0m )\n\u001b[1;32m---> 65\u001b[0m \u001b[39mreturn\u001b[39;00m \u001b[39msuper\u001b[39;49m()\u001b[39m.\u001b[39;49m\u001b[39m__call__\u001b[39;49m(iterable_with_config)\n",
      "File \u001b[1;32md:\\Anaconda\\envs\\MLOps\\Lib\\site-packages\\joblib\\parallel.py:1863\u001b[0m, in \u001b[0;36mParallel.__call__\u001b[1;34m(self, iterable)\u001b[0m\n\u001b[0;32m   1861\u001b[0m     output \u001b[39m=\u001b[39m \u001b[39mself\u001b[39m\u001b[39m.\u001b[39m_get_sequential_output(iterable)\n\u001b[0;32m   1862\u001b[0m     \u001b[39mnext\u001b[39m(output)\n\u001b[1;32m-> 1863\u001b[0m     \u001b[39mreturn\u001b[39;00m output \u001b[39mif\u001b[39;00m \u001b[39mself\u001b[39m\u001b[39m.\u001b[39mreturn_generator \u001b[39melse\u001b[39;00m \u001b[39mlist\u001b[39;49m(output)\n\u001b[0;32m   1865\u001b[0m \u001b[39m# Let's create an ID that uniquely identifies the current call. If the\u001b[39;00m\n\u001b[0;32m   1866\u001b[0m \u001b[39m# call is interrupted early and that the same instance is immediately\u001b[39;00m\n\u001b[0;32m   1867\u001b[0m \u001b[39m# re-used, this id will be used to prevent workers that were\u001b[39;00m\n\u001b[0;32m   1868\u001b[0m \u001b[39m# concurrently finalizing a task from the previous call to run the\u001b[39;00m\n\u001b[0;32m   1869\u001b[0m \u001b[39m# callback.\u001b[39;00m\n\u001b[0;32m   1870\u001b[0m \u001b[39mwith\u001b[39;00m \u001b[39mself\u001b[39m\u001b[39m.\u001b[39m_lock:\n",
      "File \u001b[1;32md:\\Anaconda\\envs\\MLOps\\Lib\\site-packages\\joblib\\parallel.py:1792\u001b[0m, in \u001b[0;36mParallel._get_sequential_output\u001b[1;34m(self, iterable)\u001b[0m\n\u001b[0;32m   1790\u001b[0m \u001b[39mself\u001b[39m\u001b[39m.\u001b[39mn_dispatched_batches \u001b[39m+\u001b[39m\u001b[39m=\u001b[39m \u001b[39m1\u001b[39m\n\u001b[0;32m   1791\u001b[0m \u001b[39mself\u001b[39m\u001b[39m.\u001b[39mn_dispatched_tasks \u001b[39m+\u001b[39m\u001b[39m=\u001b[39m \u001b[39m1\u001b[39m\n\u001b[1;32m-> 1792\u001b[0m res \u001b[39m=\u001b[39m func(\u001b[39m*\u001b[39;49margs, \u001b[39m*\u001b[39;49m\u001b[39m*\u001b[39;49mkwargs)\n\u001b[0;32m   1793\u001b[0m \u001b[39mself\u001b[39m\u001b[39m.\u001b[39mn_completed_tasks \u001b[39m+\u001b[39m\u001b[39m=\u001b[39m \u001b[39m1\u001b[39m\n\u001b[0;32m   1794\u001b[0m \u001b[39mself\u001b[39m\u001b[39m.\u001b[39mprint_progress()\n",
      "File \u001b[1;32md:\\Anaconda\\envs\\MLOps\\Lib\\site-packages\\sklearn\\utils\\parallel.py:127\u001b[0m, in \u001b[0;36m_FuncWrapper.__call__\u001b[1;34m(self, *args, **kwargs)\u001b[0m\n\u001b[0;32m    125\u001b[0m     config \u001b[39m=\u001b[39m {}\n\u001b[0;32m    126\u001b[0m \u001b[39mwith\u001b[39;00m config_context(\u001b[39m*\u001b[39m\u001b[39m*\u001b[39mconfig):\n\u001b[1;32m--> 127\u001b[0m     \u001b[39mreturn\u001b[39;00m \u001b[39mself\u001b[39;49m\u001b[39m.\u001b[39;49mfunction(\u001b[39m*\u001b[39;49margs, \u001b[39m*\u001b[39;49m\u001b[39m*\u001b[39;49mkwargs)\n",
      "File \u001b[1;32md:\\Anaconda\\envs\\MLOps\\Lib\\site-packages\\sklearn\\ensemble\\_forest.py:188\u001b[0m, in \u001b[0;36m_parallel_build_trees\u001b[1;34m(tree, bootstrap, X, y, sample_weight, tree_idx, n_trees, verbose, class_weight, n_samples_bootstrap)\u001b[0m\n\u001b[0;32m    185\u001b[0m     \u001b[39melif\u001b[39;00m class_weight \u001b[39m==\u001b[39m \u001b[39m\"\u001b[39m\u001b[39mbalanced_subsample\u001b[39m\u001b[39m\"\u001b[39m:\n\u001b[0;32m    186\u001b[0m         curr_sample_weight \u001b[39m*\u001b[39m\u001b[39m=\u001b[39m compute_sample_weight(\u001b[39m\"\u001b[39m\u001b[39mbalanced\u001b[39m\u001b[39m\"\u001b[39m, y, indices\u001b[39m=\u001b[39mindices)\n\u001b[1;32m--> 188\u001b[0m     tree\u001b[39m.\u001b[39;49mfit(X, y, sample_weight\u001b[39m=\u001b[39;49mcurr_sample_weight, check_input\u001b[39m=\u001b[39;49m\u001b[39mFalse\u001b[39;49;00m)\n\u001b[0;32m    189\u001b[0m \u001b[39melse\u001b[39;00m:\n\u001b[0;32m    190\u001b[0m     tree\u001b[39m.\u001b[39mfit(X, y, sample_weight\u001b[39m=\u001b[39msample_weight, check_input\u001b[39m=\u001b[39m\u001b[39mFalse\u001b[39;00m)\n",
      "File \u001b[1;32md:\\Anaconda\\envs\\MLOps\\Lib\\site-packages\\sklearn\\base.py:1151\u001b[0m, in \u001b[0;36m_fit_context.<locals>.decorator.<locals>.wrapper\u001b[1;34m(estimator, *args, **kwargs)\u001b[0m\n\u001b[0;32m   1144\u001b[0m     estimator\u001b[39m.\u001b[39m_validate_params()\n\u001b[0;32m   1146\u001b[0m \u001b[39mwith\u001b[39;00m config_context(\n\u001b[0;32m   1147\u001b[0m     skip_parameter_validation\u001b[39m=\u001b[39m(\n\u001b[0;32m   1148\u001b[0m         prefer_skip_nested_validation \u001b[39mor\u001b[39;00m global_skip_validation\n\u001b[0;32m   1149\u001b[0m     )\n\u001b[0;32m   1150\u001b[0m ):\n\u001b[1;32m-> 1151\u001b[0m     \u001b[39mreturn\u001b[39;00m fit_method(estimator, \u001b[39m*\u001b[39;49margs, \u001b[39m*\u001b[39;49m\u001b[39m*\u001b[39;49mkwargs)\n",
      "File \u001b[1;32md:\\Anaconda\\envs\\MLOps\\Lib\\site-packages\\sklearn\\tree\\_classes.py:1320\u001b[0m, in \u001b[0;36mDecisionTreeRegressor.fit\u001b[1;34m(self, X, y, sample_weight, check_input)\u001b[0m\n\u001b[0;32m   1290\u001b[0m \u001b[39m@_fit_context\u001b[39m(prefer_skip_nested_validation\u001b[39m=\u001b[39m\u001b[39mTrue\u001b[39;00m)\n\u001b[0;32m   1291\u001b[0m \u001b[39mdef\u001b[39;00m \u001b[39mfit\u001b[39m(\u001b[39mself\u001b[39m, X, y, sample_weight\u001b[39m=\u001b[39m\u001b[39mNone\u001b[39;00m, check_input\u001b[39m=\u001b[39m\u001b[39mTrue\u001b[39;00m):\n\u001b[0;32m   1292\u001b[0m \u001b[39m    \u001b[39m\u001b[39m\"\"\"Build a decision tree regressor from the training set (X, y).\u001b[39;00m\n\u001b[0;32m   1293\u001b[0m \n\u001b[0;32m   1294\u001b[0m \u001b[39m    Parameters\u001b[39;00m\n\u001b[1;32m   (...)\u001b[0m\n\u001b[0;32m   1317\u001b[0m \u001b[39m        Fitted estimator.\u001b[39;00m\n\u001b[0;32m   1318\u001b[0m \u001b[39m    \"\"\"\u001b[39;00m\n\u001b[1;32m-> 1320\u001b[0m     \u001b[39msuper\u001b[39;49m()\u001b[39m.\u001b[39;49m_fit(\n\u001b[0;32m   1321\u001b[0m         X,\n\u001b[0;32m   1322\u001b[0m         y,\n\u001b[0;32m   1323\u001b[0m         sample_weight\u001b[39m=\u001b[39;49msample_weight,\n\u001b[0;32m   1324\u001b[0m         check_input\u001b[39m=\u001b[39;49mcheck_input,\n\u001b[0;32m   1325\u001b[0m     )\n\u001b[0;32m   1326\u001b[0m     \u001b[39mreturn\u001b[39;00m \u001b[39mself\u001b[39m\n",
      "File \u001b[1;32md:\\Anaconda\\envs\\MLOps\\Lib\\site-packages\\sklearn\\tree\\_classes.py:443\u001b[0m, in \u001b[0;36mBaseDecisionTree._fit\u001b[1;34m(self, X, y, sample_weight, check_input, missing_values_in_feature_mask)\u001b[0m\n\u001b[0;32m    432\u001b[0m \u001b[39melse\u001b[39;00m:\n\u001b[0;32m    433\u001b[0m     builder \u001b[39m=\u001b[39m BestFirstTreeBuilder(\n\u001b[0;32m    434\u001b[0m         splitter,\n\u001b[0;32m    435\u001b[0m         min_samples_split,\n\u001b[1;32m   (...)\u001b[0m\n\u001b[0;32m    440\u001b[0m         \u001b[39mself\u001b[39m\u001b[39m.\u001b[39mmin_impurity_decrease,\n\u001b[0;32m    441\u001b[0m     )\n\u001b[1;32m--> 443\u001b[0m builder\u001b[39m.\u001b[39;49mbuild(\u001b[39mself\u001b[39;49m\u001b[39m.\u001b[39;49mtree_, X, y, sample_weight, missing_values_in_feature_mask)\n\u001b[0;32m    445\u001b[0m \u001b[39mif\u001b[39;00m \u001b[39mself\u001b[39m\u001b[39m.\u001b[39mn_outputs_ \u001b[39m==\u001b[39m \u001b[39m1\u001b[39m \u001b[39mand\u001b[39;00m is_classifier(\u001b[39mself\u001b[39m):\n\u001b[0;32m    446\u001b[0m     \u001b[39mself\u001b[39m\u001b[39m.\u001b[39mn_classes_ \u001b[39m=\u001b[39m \u001b[39mself\u001b[39m\u001b[39m.\u001b[39mn_classes_[\u001b[39m0\u001b[39m]\n",
      "\u001b[1;31mKeyboardInterrupt\u001b[0m: "
     ]
    }
   ],
   "source": [
    "rfr = RandomForestRegressor(n_estimators=200, max_depth=20)\n",
    "rfr.fit(transformed_X_train, transformed_y_train)"
   ]
  },
  {
   "cell_type": "code",
   "execution_count": null,
   "metadata": {},
   "outputs": [],
   "source": [
    "prediction = rfr.predict(transformed_X_test)\n",
    "mse = mean_squared_error(prediction, transformed_y_test)"
   ]
  },
  {
   "cell_type": "code",
   "execution_count": null,
   "metadata": {},
   "outputs": [],
   "source": [
    "# prepprcoessing pipeline\n",
    "numeric_features = ['HourDK_year','HourDK_month','HourDK_day','HourDK_hour','HourDK_weekofyear','HourDK_dayofweek']\n",
    "categorical_features = ['PriceArea', 'ConsumerType_DE35']\n",
    "\n",
    "preprocessor = ColumnTransformer(\n",
    "    transformers=[\n",
    "        ('scaler', StandardScaler(), numeric_features),\n",
    "        ('ohe', OneHotEncoder(), categorical_features)],\n",
    "    remainder = 'passthrough')\n",
    "\n",
    "# define different candidate models in a dictionary\n",
    "models_params = {\n",
    "    'random_forest': {\n",
    "        'model': RandomForestRegressor(),\n",
    "        'params':{\n",
    "            'randomforestregressor__n_estimators': [100,200,300],\n",
    "            'randomforestregressor__max_depth': [None, 10, 20, 30]\n",
    "        }\n",
    "    },\n",
    "    'gradient_boost': {\n",
    "        'model': GradientBoostingRegressor(),\n",
    "        'params':{\n",
    "            'gradientboostingregressor__n_estimators': [100, 200, 300],\n",
    "            'gradientboostingregressor__max_depth': [3, 4, 5],\n",
    "            'gradientboostingregressor__learning_rate': [0.01, 0.1, 0.2]\n",
    "        }\n",
    "    },\n",
    "    'svr': {\n",
    "        'model': SVR(gamma='auto'),\n",
    "        'params':{\n",
    "            'svr__kernel': ['rbf', 'poly', 'sigmoid'],\n",
    "            'svr__C': [0.1, 1, 10, 100, 1000]\n",
    "        }\n",
    "    }\n",
    "}"
   ]
  },
  {
   "cell_type": "code",
   "execution_count": null,
   "metadata": {},
   "outputs": [],
   "source": [
    "# run GridSearchCV to find the best model\n",
    "scores = []\n",
    "best_estimators = {}\n",
    "\n",
    "for algo, mp in models_params.items():\n",
    "    pipe = make_pipeline(preprocessor, mp['model'])\n",
    "    rgs = GridSearchCV(pipe, mp['params'], cv=5, return_train_score=False)\n",
    "    rgs.fit(X_train, y_train)\n",
    "\n",
    "    # best scores of each model\n",
    "    scores.append({\n",
    "        'model': algo,\n",
    "        'best_score': rgs.best_score_,\n",
    "        'best_params': rgs.best_params_\n",
    "    })\n",
    "    best_estimators[algo] = rgs.best_estimator_\n",
    "\n",
    "df=pd.DataFrame(scores, columns=['model', 'best_score', 'best_params'])\n",
    "df"
   ]
  }
 ],
 "metadata": {
  "kernelspec": {
   "display_name": "MLOps",
   "language": "python",
   "name": "python3"
  },
  "language_info": {
   "codemirror_mode": {
    "name": "ipython",
    "version": 3
   },
   "file_extension": ".py",
   "mimetype": "text/x-python",
   "name": "python",
   "nbconvert_exporter": "python",
   "pygments_lexer": "ipython3",
   "version": "3.11.5"
  },
  "orig_nbformat": 4
 },
 "nbformat": 4,
 "nbformat_minor": 2
}
